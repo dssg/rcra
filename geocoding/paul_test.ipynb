{
 "cells": [
  {
   "cell_type": "code",
   "execution_count": 8,
   "metadata": {
    "collapsed": false
   },
   "outputs": [
    {
     "name": "stdout",
     "output_type": "stream",
     "text": [
      "{'city': 'city', 'state': 'state', 'street': 'street', 'zipcode': 'zipcode', 'street_number': 'street_number'}\n"
     ]
    }
   ],
   "source": [
    "    search_str = {\"street_number\": \"street_number\", \n",
    "                    \"street\": \"street\",\n",
    "                  \"city\": \"city\",\n",
    "                  \"state\": \"state\",\n",
    "                  \"zipcode\": \"zipcode\"\n",
    "                  }\n",
    "    print(search_str)\n",
    "    "
   ]
  },
  {
   "cell_type": "code",
   "execution_count": 9,
   "metadata": {
    "collapsed": false
   },
   "outputs": [],
   "source": [
    "    search_str = \" \".join(search_str.values())\n",
    "    "
   ]
  },
  {
   "cell_type": "code",
   "execution_count": 10,
   "metadata": {
    "collapsed": false
   },
   "outputs": [
    {
     "name": "stdout",
     "output_type": "stream",
     "text": [
      "city state street zipcode street_number\n"
     ]
    }
   ],
   "source": [
    "print(search_str)"
   ]
  }
 ],
 "metadata": {
  "kernelspec": {
   "display_name": "Python 2",
   "language": "python",
   "name": "python2"
  },
  "language_info": {
   "codemirror_mode": {
    "name": "ipython",
    "version": 2
   },
   "file_extension": ".py",
   "mimetype": "text/x-python",
   "name": "python",
   "nbconvert_exporter": "python",
   "pygments_lexer": "ipython2",
   "version": "2.7.11"
  }
 },
 "nbformat": 4,
 "nbformat_minor": 0
}
