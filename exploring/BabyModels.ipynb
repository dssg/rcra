{
 "cells": [
  {
   "cell_type": "code",
   "execution_count": 73,
   "metadata": {
    "collapsed": false
   },
   "outputs": [],
   "source": [
    "import psycopg2\n",
    "import authentication as auth\n",
    "import pandas as pd\n",
    "\n",
    "\n",
    "import numpy as np\n",
    "import datetime\n",
    "\n",
    "import statsmodels.api as sm\n",
    "import matplotlib.pyplot as plt\n",
    "from patsy import dmatrices\n",
    "from sklearn.linear_model import LogisticRegression\n",
    "from sklearn.cross_validation import train_test_split\n",
    "from sklearn import metrics\n",
    "from sklearn.cross_validation import cross_val_score\n",
    "\n"
   ]
  },
  {
   "cell_type": "code",
   "execution_count": 2,
   "metadata": {
    "collapsed": false
   },
   "outputs": [
    {
     "data": {
      "text/plain": [
       "'/home/mkamenets/epa-ny/exploring'"
      ]
     },
     "execution_count": 2,
     "metadata": {},
     "output_type": "execute_result"
    }
   ],
   "source": [
    "import os\n",
    "os.getcwd()"
   ]
  },
  {
   "cell_type": "code",
   "execution_count": 3,
   "metadata": {
    "collapsed": true
   },
   "outputs": [],
   "source": [
    "conn = psycopg2.connect(database=auth.database, user=auth.userid, password=auth.password, host=auth.host)\n",
    "cur = conn.cursor()"
   ]
  },
  {
   "cell_type": "code",
   "execution_count": null,
   "metadata": {
    "collapsed": true
   },
   "outputs": [],
   "source": [
    "df2 = pd.read_sql_query(\"SELECT cme.rcra_id, cme.start_date, cme.evaluation_count, cme.violation, cme.enforcement, cme.formal_enforcement, mani.approx_qty, mani.waste_code_1  FROM summary.cmecomp_reduced cme INNER JOIN raw.mani06_16 mani ON (mani.gen_rcra_id = cme.rcra_id);\", conn, parse_dates= ['start_date'])"
   ]
  },
  {
   "cell_type": "code",
   "execution_count": 122,
   "metadata": {
    "collapsed": false
   },
   "outputs": [
    {
     "data": {
      "text/plain": [
       "rcra_id                       object\n",
       "start_date            datetime64[ns]\n",
       "evaluation_count               int64\n",
       "violation                       bool\n",
       "enforcement                     bool\n",
       "formal_enforcement              bool\n",
       "approx_qty                   float64\n",
       "waste_code_1                  object\n",
       "dtype: object"
      ]
     },
     "execution_count": 122,
     "metadata": {},
     "output_type": "execute_result"
    }
   ],
   "source": [
    "df2.dtypes"
   ]
  },
  {
   "cell_type": "code",
   "execution_count": 49,
   "metadata": {
    "collapsed": true
   },
   "outputs": [],
   "source": [
    "df = pd.read_sql_query(\"SELECT cme.rcra_id, cme.start_date, cme.evaluation_count, cme.violation, cme.enforcement, cme.formal_enforcement, mani.approx_qty, mani.waste_code_1  FROM summary.cmecomp_reduced cme INNER JOIN raw.mani06_16 mani ON (mani.gen_rcra_id = cme.rcra_id);\", conn)\n",
    "                         "
   ]
  },
  {
   "cell_type": "code",
   "execution_count": 50,
   "metadata": {
    "collapsed": true
   },
   "outputs": [],
   "source": [
    "df['start_dateD']  = pd.to_datetime(df['start_date'], infer_datetime_format = True)"
   ]
  },
  {
   "cell_type": "code",
   "execution_count": 51,
   "metadata": {
    "collapsed": false
   },
   "outputs": [
    {
     "data": {
      "text/plain": [
       "rcra_id                       object\n",
       "start_date                    object\n",
       "evaluation_count               int64\n",
       "violation                       bool\n",
       "enforcement                     bool\n",
       "formal_enforcement              bool\n",
       "approx_qty                   float64\n",
       "waste_code_1                  object\n",
       "start_dateD           datetime64[ns]\n",
       "dtype: object"
      ]
     },
     "execution_count": 51,
     "metadata": {},
     "output_type": "execute_result"
    }
   ],
   "source": [
    "#df = df.head(n=10000)\n",
    "df.dtypes\n",
    "#df_orig  = df\n",
    "#df = df_orig\n",
    "#df = df.head(100)\n"
   ]
  },
  {
   "cell_type": "code",
   "execution_count": 52,
   "metadata": {
    "collapsed": false
   },
   "outputs": [
    {
     "data": {
      "text/plain": [
       "0    1\n",
       "1    1\n",
       "2    1\n",
       "3    1\n",
       "4    1\n",
       "Name: violation, dtype: int64"
      ]
     },
     "execution_count": 52,
     "metadata": {},
     "output_type": "execute_result"
    }
   ],
   "source": [
    "df['violation'].astype(int).head()"
   ]
  },
  {
   "cell_type": "code",
   "execution_count": 53,
   "metadata": {
    "collapsed": false
   },
   "outputs": [],
   "source": [
    "df['start_year'] = df['start_dateD'].dt.year\n",
    "\n"
   ]
  },
  {
   "cell_type": "code",
   "execution_count": 56,
   "metadata": {
    "collapsed": false
   },
   "outputs": [],
   "source": [
    "df['waste_code'] = df.waste_code_1.str[0:1]\n",
    "df['state'] = df.rcra_id.str[0:2]"
   ]
  },
  {
   "cell_type": "code",
   "execution_count": 55,
   "metadata": {
    "collapsed": false
   },
   "outputs": [],
   "source": [
    "df['violation_dum'] = (df.violation == True).astype(int)\n",
    "df['enforcement_dum'] = (df.enforcement == True).astype(int)\n",
    "df['formal_enforcement'] = (df.formal_enforcement == True).astype(int)"
   ]
  },
  {
   "cell_type": "code",
   "execution_count": 57,
   "metadata": {
    "collapsed": false
   },
   "outputs": [
    {
     "data": {
      "text/html": [
       "<div>\n",
       "<table border=\"1\" class=\"dataframe\">\n",
       "  <thead>\n",
       "    <tr style=\"text-align: right;\">\n",
       "      <th></th>\n",
       "      <th>rcra_id</th>\n",
       "      <th>start_date</th>\n",
       "      <th>evaluation_count</th>\n",
       "      <th>violation</th>\n",
       "      <th>enforcement</th>\n",
       "      <th>formal_enforcement</th>\n",
       "      <th>approx_qty</th>\n",
       "      <th>waste_code_1</th>\n",
       "      <th>start_dateD</th>\n",
       "      <th>start_year</th>\n",
       "      <th>waste_code</th>\n",
       "      <th>state</th>\n",
       "      <th>violation_dum</th>\n",
       "      <th>enforcement_dum</th>\n",
       "    </tr>\n",
       "  </thead>\n",
       "  <tbody>\n",
       "    <tr>\n",
       "      <th>0</th>\n",
       "      <td>NY0000001107</td>\n",
       "      <td>2009-03-24</td>\n",
       "      <td>28</td>\n",
       "      <td>True</td>\n",
       "      <td>True</td>\n",
       "      <td>1</td>\n",
       "      <td>0.385808</td>\n",
       "      <td>D001</td>\n",
       "      <td>2009-03-24</td>\n",
       "      <td>2009</td>\n",
       "      <td>D</td>\n",
       "      <td>NY</td>\n",
       "      <td>1</td>\n",
       "      <td>1</td>\n",
       "    </tr>\n",
       "    <tr>\n",
       "      <th>1</th>\n",
       "      <td>NY0000001107</td>\n",
       "      <td>2009-03-24</td>\n",
       "      <td>28</td>\n",
       "      <td>True</td>\n",
       "      <td>True</td>\n",
       "      <td>1</td>\n",
       "      <td>0.595247</td>\n",
       "      <td>D001</td>\n",
       "      <td>2009-03-24</td>\n",
       "      <td>2009</td>\n",
       "      <td>D</td>\n",
       "      <td>NY</td>\n",
       "      <td>1</td>\n",
       "      <td>1</td>\n",
       "    </tr>\n",
       "    <tr>\n",
       "      <th>2</th>\n",
       "      <td>NY0000001107</td>\n",
       "      <td>2009-03-24</td>\n",
       "      <td>28</td>\n",
       "      <td>True</td>\n",
       "      <td>True</td>\n",
       "      <td>1</td>\n",
       "      <td>0.454152</td>\n",
       "      <td>D001</td>\n",
       "      <td>2009-03-24</td>\n",
       "      <td>2009</td>\n",
       "      <td>D</td>\n",
       "      <td>NY</td>\n",
       "      <td>1</td>\n",
       "      <td>1</td>\n",
       "    </tr>\n",
       "    <tr>\n",
       "      <th>3</th>\n",
       "      <td>NY0000001107</td>\n",
       "      <td>2009-03-24</td>\n",
       "      <td>28</td>\n",
       "      <td>True</td>\n",
       "      <td>True</td>\n",
       "      <td>1</td>\n",
       "      <td>80.000000</td>\n",
       "      <td>D002</td>\n",
       "      <td>2009-03-24</td>\n",
       "      <td>2009</td>\n",
       "      <td>D</td>\n",
       "      <td>NY</td>\n",
       "      <td>1</td>\n",
       "      <td>1</td>\n",
       "    </tr>\n",
       "    <tr>\n",
       "      <th>4</th>\n",
       "      <td>NY0000001107</td>\n",
       "      <td>2009-03-24</td>\n",
       "      <td>28</td>\n",
       "      <td>True</td>\n",
       "      <td>True</td>\n",
       "      <td>1</td>\n",
       "      <td>5.000000</td>\n",
       "      <td>D002</td>\n",
       "      <td>2009-03-24</td>\n",
       "      <td>2009</td>\n",
       "      <td>D</td>\n",
       "      <td>NY</td>\n",
       "      <td>1</td>\n",
       "      <td>1</td>\n",
       "    </tr>\n",
       "  </tbody>\n",
       "</table>\n",
       "</div>"
      ],
      "text/plain": [
       "        rcra_id  start_date  evaluation_count violation enforcement  \\\n",
       "0  NY0000001107  2009-03-24                28      True        True   \n",
       "1  NY0000001107  2009-03-24                28      True        True   \n",
       "2  NY0000001107  2009-03-24                28      True        True   \n",
       "3  NY0000001107  2009-03-24                28      True        True   \n",
       "4  NY0000001107  2009-03-24                28      True        True   \n",
       "\n",
       "   formal_enforcement  approx_qty waste_code_1 start_dateD  start_year  \\\n",
       "0                   1    0.385808         D001  2009-03-24        2009   \n",
       "1                   1    0.595247         D001  2009-03-24        2009   \n",
       "2                   1    0.454152         D001  2009-03-24        2009   \n",
       "3                   1   80.000000         D002  2009-03-24        2009   \n",
       "4                   1    5.000000         D002  2009-03-24        2009   \n",
       "\n",
       "  waste_code state  violation_dum  enforcement_dum  \n",
       "0          D    NY              1                1  \n",
       "1          D    NY              1                1  \n",
       "2          D    NY              1                1  \n",
       "3          D    NY              1                1  \n",
       "4          D    NY              1                1  "
      ]
     },
     "execution_count": 57,
     "metadata": {},
     "output_type": "execute_result"
    }
   ],
   "source": [
    "df.head()"
   ]
  },
  {
   "cell_type": "code",
   "execution_count": 130,
   "metadata": {
    "collapsed": false
   },
   "outputs": [],
   "source": [
    "#df['year'] = df['start_date'].dt.year.astype(str)\n",
    "#df['month'] = df['start_date'].dt.month.astype(str)\n",
    "#df['month_year'] = pd.to_datetime(df['month_year'], infer_datetime_format=True)\n",
    "\n"
   ]
  },
  {
   "cell_type": "code",
   "execution_count": 41,
   "metadata": {
    "collapsed": false
   },
   "outputs": [
    {
     "data": {
      "text/html": [
       "<div>\n",
       "<table border=\"1\" class=\"dataframe\">\n",
       "  <thead>\n",
       "    <tr style=\"text-align: right;\">\n",
       "      <th></th>\n",
       "      <th>rcra_id</th>\n",
       "      <th>start_date</th>\n",
       "      <th>evaluation_count</th>\n",
       "      <th>violation</th>\n",
       "      <th>enforcement</th>\n",
       "      <th>formal_enforcement</th>\n",
       "      <th>approx_qty</th>\n",
       "      <th>waste_code_1</th>\n",
       "      <th>start_dateD</th>\n",
       "      <th>start_year</th>\n",
       "      <th>waste_code</th>\n",
       "      <th>state</th>\n",
       "      <th>violation_dum</th>\n",
       "      <th>enforcement_dum</th>\n",
       "    </tr>\n",
       "  </thead>\n",
       "  <tbody>\n",
       "    <tr>\n",
       "      <th>0</th>\n",
       "      <td>NY0000001107</td>\n",
       "      <td>2009-03-24</td>\n",
       "      <td>28</td>\n",
       "      <td>True</td>\n",
       "      <td>True</td>\n",
       "      <td>1</td>\n",
       "      <td>0.385808</td>\n",
       "      <td>D001</td>\n",
       "      <td>2009-03-24</td>\n",
       "      <td>2009</td>\n",
       "      <td>D</td>\n",
       "      <td>NY</td>\n",
       "      <td>1</td>\n",
       "      <td>1</td>\n",
       "    </tr>\n",
       "    <tr>\n",
       "      <th>1</th>\n",
       "      <td>NY0000001107</td>\n",
       "      <td>2009-03-24</td>\n",
       "      <td>28</td>\n",
       "      <td>True</td>\n",
       "      <td>True</td>\n",
       "      <td>1</td>\n",
       "      <td>0.595247</td>\n",
       "      <td>D001</td>\n",
       "      <td>2009-03-24</td>\n",
       "      <td>2009</td>\n",
       "      <td>D</td>\n",
       "      <td>NY</td>\n",
       "      <td>1</td>\n",
       "      <td>1</td>\n",
       "    </tr>\n",
       "    <tr>\n",
       "      <th>2</th>\n",
       "      <td>NY0000001107</td>\n",
       "      <td>2009-03-24</td>\n",
       "      <td>28</td>\n",
       "      <td>True</td>\n",
       "      <td>True</td>\n",
       "      <td>1</td>\n",
       "      <td>0.454152</td>\n",
       "      <td>D001</td>\n",
       "      <td>2009-03-24</td>\n",
       "      <td>2009</td>\n",
       "      <td>D</td>\n",
       "      <td>NY</td>\n",
       "      <td>1</td>\n",
       "      <td>1</td>\n",
       "    </tr>\n",
       "    <tr>\n",
       "      <th>3</th>\n",
       "      <td>NY0000001107</td>\n",
       "      <td>2009-03-24</td>\n",
       "      <td>28</td>\n",
       "      <td>True</td>\n",
       "      <td>True</td>\n",
       "      <td>1</td>\n",
       "      <td>80.000000</td>\n",
       "      <td>D002</td>\n",
       "      <td>2009-03-24</td>\n",
       "      <td>2009</td>\n",
       "      <td>D</td>\n",
       "      <td>NY</td>\n",
       "      <td>1</td>\n",
       "      <td>1</td>\n",
       "    </tr>\n",
       "    <tr>\n",
       "      <th>4</th>\n",
       "      <td>NY0000001107</td>\n",
       "      <td>2009-03-24</td>\n",
       "      <td>28</td>\n",
       "      <td>True</td>\n",
       "      <td>True</td>\n",
       "      <td>1</td>\n",
       "      <td>5.000000</td>\n",
       "      <td>D002</td>\n",
       "      <td>2009-03-24</td>\n",
       "      <td>2009</td>\n",
       "      <td>D</td>\n",
       "      <td>NY</td>\n",
       "      <td>1</td>\n",
       "      <td>1</td>\n",
       "    </tr>\n",
       "  </tbody>\n",
       "</table>\n",
       "</div>"
      ],
      "text/plain": [
       "        rcra_id  start_date  evaluation_count violation enforcement  \\\n",
       "0  NY0000001107  2009-03-24                28      True        True   \n",
       "1  NY0000001107  2009-03-24                28      True        True   \n",
       "2  NY0000001107  2009-03-24                28      True        True   \n",
       "3  NY0000001107  2009-03-24                28      True        True   \n",
       "4  NY0000001107  2009-03-24                28      True        True   \n",
       "\n",
       "   formal_enforcement  approx_qty waste_code_1 start_dateD  start_year  \\\n",
       "0                   1    0.385808         D001  2009-03-24        2009   \n",
       "1                   1    0.595247         D001  2009-03-24        2009   \n",
       "2                   1    0.454152         D001  2009-03-24        2009   \n",
       "3                   1   80.000000         D002  2009-03-24        2009   \n",
       "4                   1    5.000000         D002  2009-03-24        2009   \n",
       "\n",
       "  waste_code state  violation_dum  enforcement_dum  \n",
       "0          D    NY              1                1  \n",
       "1          D    NY              1                1  \n",
       "2          D    NY              1                1  \n",
       "3          D    NY              1                1  \n",
       "4          D    NY              1                1  "
      ]
     },
     "execution_count": 41,
     "metadata": {},
     "output_type": "execute_result"
    }
   ],
   "source": [
    "df.head()"
   ]
  },
  {
   "cell_type": "code",
   "execution_count": 50,
   "metadata": {
    "collapsed": false
   },
   "outputs": [],
   "source": [
    "y, X = dmatrices('violation_dum ~ evaluation_count + approx_qty +C(waste_code)', df, return_type = 'dataframe')"
   ]
  },
  {
   "cell_type": "code",
   "execution_count": 51,
   "metadata": {
    "collapsed": false
   },
   "outputs": [
    {
     "name": "stdout",
     "output_type": "stream",
     "text": [
      "Index(['Intercept', 'C(waste_code)[T.B]', 'C(waste_code)[T.D]',\n",
      "       'C(waste_code)[T.F]', 'C(waste_code)[T.P]', 'C(waste_code)[T.U]',\n",
      "       'evaluation_count', 'approx_qty'],\n",
      "      dtype='object')\n"
     ]
    }
   ],
   "source": [
    "print(X.columns)"
   ]
  },
  {
   "cell_type": "code",
   "execution_count": 52,
   "metadata": {
    "collapsed": true
   },
   "outputs": [],
   "source": [
    "y = np.ravel(y)"
   ]
  },
  {
   "cell_type": "code",
   "execution_count": 54,
   "metadata": {
    "collapsed": false
   },
   "outputs": [
    {
     "data": {
      "text/plain": [
       "array([ 1.,  1.,  1.,  1.,  1.])"
      ]
     },
     "execution_count": 54,
     "metadata": {},
     "output_type": "execute_result"
    }
   ],
   "source": [
    "y[0:5]"
   ]
  },
  {
   "cell_type": "code",
   "execution_count": 55,
   "metadata": {
    "collapsed": true
   },
   "outputs": [],
   "source": [
    "model = LogisticRegression()\n",
    "model = model.fit(X,y)"
   ]
  },
  {
   "cell_type": "code",
   "execution_count": 56,
   "metadata": {
    "collapsed": false
   },
   "outputs": [
    {
     "data": {
      "text/plain": [
       "0.87949026690748544"
      ]
     },
     "execution_count": 56,
     "metadata": {},
     "output_type": "execute_result"
    }
   ],
   "source": [
    "model.score(X,y)"
   ]
  },
  {
   "cell_type": "code",
   "execution_count": 57,
   "metadata": {
    "collapsed": false
   },
   "outputs": [
    {
     "data": {
      "text/plain": [
       "0.62111178005217738"
      ]
     },
     "execution_count": 57,
     "metadata": {},
     "output_type": "execute_result"
    }
   ],
   "source": [
    "y.mean()"
   ]
  },
  {
   "cell_type": "code",
   "execution_count": 61,
   "metadata": {
    "collapsed": false
   },
   "outputs": [],
   "source": [
    " betas = np.linalg.lstsq(X, y)[0].ravel()"
   ]
  },
  {
   "cell_type": "code",
   "execution_count": 63,
   "metadata": {
    "collapsed": false
   },
   "outputs": [
    {
     "name": "stdout",
     "output_type": "stream",
     "text": [
      "Intercept: 0.440269567522\n",
      "C(waste_code)[T.B]: -0.154767353976\n",
      "C(waste_code)[T.D]: 0.0629052702756\n",
      "C(waste_code)[T.F]: 0.000886206698578\n",
      "C(waste_code)[T.P]: -0.10684676281\n",
      "C(waste_code)[T.U]: -0.130244551808\n",
      "evaluation_count: 0.0353707450241\n",
      "approx_qty: -6.21208838641e-06\n"
     ]
    }
   ],
   "source": [
    "for name, beta in zip(X.design_info.column_names, betas):\n",
    "   ...:     print(\"%s: %s\" % (name, beta))"
   ]
  },
  {
   "cell_type": "code",
   "execution_count": 64,
   "metadata": {
    "collapsed": false
   },
   "outputs": [
    {
     "name": "stdout",
     "output_type": "stream",
     "text": [
      "<bound method DataFrame.describe of            rcra_id  start_date  evaluation_count violation enforcement  \\\n",
      "0     NY0000001107  2009-03-24                28      True        True   \n",
      "1     NY0000001107  2009-03-24                28      True        True   \n",
      "2     NY0000001107  2009-03-24                28      True        True   \n",
      "3     NY0000001107  2009-03-24                28      True        True   \n",
      "4     NY0000001107  2009-03-24                28      True        True   \n",
      "5     NY0000001107  2009-03-24                28      True        True   \n",
      "6     NY0000001107  2009-03-24                28      True        True   \n",
      "7     NY0000001107  2009-03-24                28      True        True   \n",
      "8     NY0000001107  2009-03-24                28      True        True   \n",
      "9     NY0000001107  2009-03-24                28      True        True   \n",
      "10    NY0000001107  2009-03-24                28      True        True   \n",
      "11    NY0000001107  2009-03-24                28      True        True   \n",
      "12    NY0000001107  2009-03-24                28      True        True   \n",
      "13    NY0000001107  2009-03-24                28      True        True   \n",
      "14    NY0000001107  2009-03-24                28      True        True   \n",
      "15    NY0000001107  2009-03-24                28      True        True   \n",
      "16    NY0000001107  2009-03-24                28      True        True   \n",
      "17    NY0000001107  2009-03-24                28      True        True   \n",
      "18    NY0000001107  2009-03-24                28      True        True   \n",
      "19    NY0000001107  2009-03-24                28      True        True   \n",
      "20    NY0000001107  2009-03-24                28      True        True   \n",
      "21    NY0000001107  2009-03-24                28      True        True   \n",
      "22    NY0000001107  2009-03-24                28      True        True   \n",
      "23    NY0000001107  2009-03-24                28      True        True   \n",
      "24    NY0000001107  2009-03-24                28      True        True   \n",
      "25    NY0000001107  2009-03-24                28      True        True   \n",
      "26    NY0000001107  2009-03-24                28      True        True   \n",
      "27    NY0000001107  2009-03-24                28      True        True   \n",
      "28    NY0000001107  2009-03-24                28      True        True   \n",
      "29    NY0000001107  2009-03-24                28      True        True   \n",
      "...            ...         ...               ...       ...         ...   \n",
      "9970  NY0000127605  2006-09-11                 6      True        True   \n",
      "9971  NY0000127605  2006-09-11                 6      True        True   \n",
      "9972  NY0000127605  2006-09-11                 6      True        True   \n",
      "9973  NY0000127605  2006-09-11                 6      True        True   \n",
      "9974  NY0000127605  2006-09-11                 6      True        True   \n",
      "9975  NY0000127605  2006-09-11                 6      True        True   \n",
      "9976  NY0000127605  2006-09-11                 6      True        True   \n",
      "9977  NY0000127605  2006-09-11                 6      True        True   \n",
      "9978  NY0000127605  2006-09-11                 6      True        True   \n",
      "9979  NY0000127605  2006-09-11                 6      True        True   \n",
      "9980  NY0000127605  2006-09-11                 6      True        True   \n",
      "9981  NY0000127605  2006-09-11                 6      True        True   \n",
      "9982  NY0000127605  2006-09-11                 6      True        True   \n",
      "9983  NY0000127605  2006-09-11                 6      True        True   \n",
      "9984  NY0000127605  2006-09-11                 6      True        True   \n",
      "9985  NY0000127605  2006-09-11                 6      True        True   \n",
      "9986  NY0000127605  2006-09-11                 6      True        True   \n",
      "9987  NY0000127605  2006-09-11                 6      True        True   \n",
      "9988  NY0000127605  2006-09-11                 6      True        True   \n",
      "9989  NY0000127605  2006-09-11                 6      True        True   \n",
      "9990  NY0000127605  2006-09-11                 6      True        True   \n",
      "9991  NY0000127605  2006-09-11                 6      True        True   \n",
      "9992  NY0000127605  2006-09-11                 6      True        True   \n",
      "9993  NY0000127605  2006-09-11                 6      True        True   \n",
      "9994  NY0000127605  2006-09-11                 6      True        True   \n",
      "9995  NY0000127605  2006-09-11                 6      True        True   \n",
      "9996  NY0000127605  2006-09-11                 6      True        True   \n",
      "9997  NY0000127605  2006-09-11                 6      True        True   \n",
      "9998  NY0000127605  2006-09-11                 6      True        True   \n",
      "9999  NY0000127605  2006-09-11                 6      True        True   \n",
      "\n",
      "     formal_enforcement    approx_qty waste_code_1  violation_dum waste_code  \n",
      "0                  True      0.385808         D001              1          D  \n",
      "1                  True      0.595247         D001              1          D  \n",
      "2                  True      0.454152         D001              1          D  \n",
      "3                  True     80.000000         D002              1          D  \n",
      "4                  True      5.000000         D002              1          D  \n",
      "5                  True      0.110231         D001              1          D  \n",
      "6                  True     30.000000         D002              1          D  \n",
      "7                  True     50.000000         D001              1          D  \n",
      "8                  True      0.275577         D001              1          D  \n",
      "9                  True     10.000000         D001              1          D  \n",
      "10                 True     10.000000         U123              1          U  \n",
      "11                 True      0.496040         D001              1          D  \n",
      "12                 True     80.000000         D001              1          D  \n",
      "13                 True    400.000000         D001              1          D  \n",
      "14                 True    140.000000         D018              1          D  \n",
      "15                 True     46.000000         D001              1          D  \n",
      "16                 True      1.000000         D001              1          D  \n",
      "17                 True      0.522495         D001              1          D  \n",
      "18                 True     30.000000         D001              1          D  \n",
      "19                 True     10.000000         D001              1          D  \n",
      "20                 True      0.385808         D001              1          D  \n",
      "21                 True    300.000000         U001              1          U  \n",
      "22                 True    125.000000         D018              1          D  \n",
      "23                 True      0.385808         D001              1          D  \n",
      "24                 True      2.000000         U123              1          U  \n",
      "25                 True      0.132277         D002              1          D  \n",
      "26                 True      0.396832         D001              1          D  \n",
      "27                 True      6.000000         D002              1          D  \n",
      "28                 True    400.000000         D018              1          D  \n",
      "29                 True      0.385808         D001              1          D  \n",
      "...                 ...           ...          ...            ...        ...  \n",
      "9970               True  23320.000000         D008              1          D  \n",
      "9971               True    300.000000         U159              1          U  \n",
      "9972               True  23000.000000         D006              1          D  \n",
      "9973               True     52.000000         D001              1          D  \n",
      "9974               True  24660.000000         D008              1          D  \n",
      "9975               True  23440.000000         D008              1          D  \n",
      "9976               True  23880.000000         D008              1          D  \n",
      "9977               True   4058.705420         B007              1          B  \n",
      "9978               True  25460.000000         D008              1          D  \n",
      "9979               True  27200.000000         D008              1          D  \n",
      "9980               True    160.000000         D003              1          D  \n",
      "9981               True    100.000000         D001              1          D  \n",
      "9982               True    300.000000         D001              1          D  \n",
      "9983               True    120.000000         D003              1          D  \n",
      "9984               True  22760.000000         D008              1          D  \n",
      "9985               True    120.000000         D002              1          D  \n",
      "9986               True  17140.000000         D008              1          D  \n",
      "9987               True      5.000000         D001              1          D  \n",
      "9988               True      2.000000         D001              1          D  \n",
      "9989               True  23300.000000         D008              1          D  \n",
      "9990               True    200.000000         D001              1          D  \n",
      "9991               True     50.000000         D001              1          D  \n",
      "9992               True   6419.853440         D008              1          D  \n",
      "9993               True  26700.000000         D008              1          D  \n",
      "9994               True  24280.000000         D008              1          D  \n",
      "9995               True  22880.000000         D008              1          D  \n",
      "9996               True   4768.593060         D008              1          D  \n",
      "9997               True  23620.000000         D008              1          D  \n",
      "9998               True   6713.067900         D008              1          D  \n",
      "9999               True  24860.000000         D008              1          D  \n",
      "\n",
      "[10000 rows x 10 columns]>\n"
     ]
    }
   ],
   "source": [
    "print(df.describe)"
   ]
  },
  {
   "cell_type": "code",
   "execution_count": null,
   "metadata": {
    "collapsed": false
   },
   "outputs": [],
   "source": [
    "print(df.std())"
   ]
  },
  {
   "cell_type": "code",
   "execution_count": 13,
   "metadata": {
    "collapsed": false
   },
   "outputs": [
    {
     "name": "stdout",
     "output_type": "stream",
     "text": [
      "violation_dum        0        1\n",
      "waste_code                     \n",
      "                101149    74452\n",
      "B               700928   412623\n",
      "D              6600487  4464330\n",
      "F              1298877  1356306\n",
      "K                57113    48350\n",
      "P                75600    65458\n",
      "S                    8       20\n",
      "U               195564   158480\n"
     ]
    }
   ],
   "source": [
    "print(pd.crosstab(df['waste_code'], df['violation_dum'], rownames=['waste_code']))"
   ]
  },
  {
   "cell_type": "code",
   "execution_count": 14,
   "metadata": {
    "collapsed": false
   },
   "outputs": [
    {
     "name": "stdout",
     "output_type": "stream",
     "text": [
      "enforcement_dum        0        1\n",
      "waste_code                       \n",
      "                  104129    71472\n",
      "B                 746796   366755\n",
      "D                6886287  4178530\n",
      "F                1383496  1271687\n",
      "K                  62282    43181\n",
      "P                  80841    60217\n",
      "S                      8       20\n",
      "U                 206485   147559\n"
     ]
    }
   ],
   "source": [
    "print(pd.crosstab(df['waste_code'], df['enforcement_dum'], rownames=['waste_code']))"
   ]
  },
  {
   "cell_type": "code",
   "execution_count": 15,
   "metadata": {
    "collapsed": false
   },
   "outputs": [
    {
     "name": "stdout",
     "output_type": "stream",
     "text": [
      "enforcement_dum        0        1\n",
      "waste_code                       \n",
      "                  104129    71472\n",
      "B                 746796   366755\n",
      "D                6886287  4178530\n",
      "F                1383496  1271687\n",
      "K                  62282    43181\n",
      "P                  80841    60217\n",
      "S                      8       20\n",
      "U                 206485   147559\n"
     ]
    }
   ],
   "source": [
    "print(pd.crosstab(df['waste_code'], df['enforcement_dum'], rownames=['waste_code']))"
   ]
  },
  {
   "cell_type": "code",
   "execution_count": 16,
   "metadata": {
    "collapsed": false
   },
   "outputs": [
    {
     "name": "stdout",
     "output_type": "stream",
     "text": [
      "enforcement_dum        0        1\n",
      "waste_code                       \n",
      "                  104129    71472\n",
      "B                 746796   366755\n",
      "D                6886287  4178530\n",
      "F                1383496  1271687\n",
      "K                  62282    43181\n",
      "P                  80841    60217\n",
      "S                      8       20\n",
      "U                 206485   147559\n"
     ]
    }
   ],
   "source": [
    "print(pd.crosstab(df['waste_code'], df['enforcement_dum'], rownames=['waste_code']))"
   ]
  },
  {
   "cell_type": "code",
   "execution_count": 15,
   "metadata": {
    "collapsed": false
   },
   "outputs": [
    {
     "name": "stdout",
     "output_type": "stream",
     "text": [
      "violation_dum        0        1\n",
      "state                          \n",
      "NY             9044996  6592957\n"
     ]
    }
   ],
   "source": [
    "print(pd.crosstab(df['state'], df['violation_dum'], rownames=['state']))"
   ]
  },
  {
   "cell_type": "code",
   "execution_count": 16,
   "metadata": {
    "collapsed": false
   },
   "outputs": [
    {
     "data": {
      "text/plain": [
       "0           2009\n",
       "1           2009\n",
       "2           2009\n",
       "3           2009\n",
       "4           2009\n",
       "5           2009\n",
       "6           2009\n",
       "7           2009\n",
       "8           2009\n",
       "9           2009\n",
       "10          2009\n",
       "11          2009\n",
       "12          2009\n",
       "13          2009\n",
       "14          2009\n",
       "15          2009\n",
       "16          2009\n",
       "17          2009\n",
       "18          2009\n",
       "19          2009\n",
       "20          2009\n",
       "21          2009\n",
       "22          2009\n",
       "23          2009\n",
       "24          2009\n",
       "25          2009\n",
       "26          2009\n",
       "27          2009\n",
       "28          2009\n",
       "29          2009\n",
       "            ... \n",
       "15637923    2015\n",
       "15637924    2015\n",
       "15637925    2015\n",
       "15637926    2015\n",
       "15637927    2015\n",
       "15637928    2015\n",
       "15637929    2015\n",
       "15637930    2015\n",
       "15637931    2015\n",
       "15637932    2015\n",
       "15637933    2015\n",
       "15637934    2015\n",
       "15637935    2015\n",
       "15637936    2015\n",
       "15637937    2015\n",
       "15637938    2015\n",
       "15637939    1986\n",
       "15637940    1986\n",
       "15637941    1986\n",
       "15637942    1986\n",
       "15637943    1986\n",
       "15637944    1986\n",
       "15637945    2009\n",
       "15637946    2009\n",
       "15637947    2009\n",
       "15637948    2009\n",
       "15637949    2009\n",
       "15637950    2009\n",
       "15637951    1995\n",
       "15637952    1996\n",
       "Name: start_year, dtype: object"
      ]
     },
     "execution_count": 16,
     "metadata": {},
     "output_type": "execute_result"
    }
   ],
   "source": [
    "df['start_year'].apply(str)"
   ]
  },
  {
   "cell_type": "code",
   "execution_count": 25,
   "metadata": {
    "collapsed": false
   },
   "outputs": [
    {
     "name": "stdout",
     "output_type": "stream",
     "text": [
      "violation_dum       0       1\n",
      "start_year                   \n",
      "1981              115    2710\n",
      "1982               48     371\n",
      "1983            29904   51663\n",
      "1984           339473  168300\n",
      "1985           205820  185737\n",
      "1986           367362  225615\n",
      "1987           440681  412304\n",
      "1988           330556  272838\n",
      "1989           209806  115477\n",
      "1990           146487  160977\n",
      "1991           251706  133766\n",
      "1992           152293  119145\n",
      "1993           176449  167894\n",
      "1994           178590  127658\n",
      "1995           215827   94441\n",
      "1996           140671  225186\n",
      "1997           256671  120977\n",
      "1998           173018  150504\n",
      "1999           343114  174432\n",
      "2000           325905  158080\n",
      "2001           356938  206833\n",
      "2002           261428  152096\n",
      "2003           341973  262442\n",
      "2004           407300  171925\n",
      "2005           347779  356944\n",
      "2006           293520  268034\n",
      "2007           180492  248988\n",
      "2008           343411  380786\n",
      "2009           365362  229129\n",
      "2010           264974  185371\n",
      "2011           303464  222221\n",
      "2012           349229  149356\n",
      "2013           326416  196399\n",
      "2014           304625  186507\n",
      "2015           304603  305267\n",
      "2016             8986    2584\n"
     ]
    }
   ],
   "source": [
    "print(pd.crosstab(df['start_year'], df['violation_dum'], rownames=['start_year']))"
   ]
  },
  {
   "cell_type": "markdown",
   "metadata": {},
   "source": [
    "# Subset 2006-2015"
   ]
  },
  {
   "cell_type": "code",
   "execution_count": 17,
   "metadata": {
    "collapsed": true
   },
   "outputs": [],
   "source": [
    "#dates = pd.date_range(start='1/1/2006',end = '12/31/2015' )"
   ]
  },
  {
   "cell_type": "code",
   "execution_count": 58,
   "metadata": {
    "collapsed": false
   },
   "outputs": [
    {
     "data": {
      "text/plain": [
       "Timestamp('2015-12-31 00:00:00')"
      ]
     },
     "execution_count": 58,
     "metadata": {},
     "output_type": "execute_result"
    }
   ],
   "source": [
    "begin_date= pd.to_datetime('2006-01-01', format = '%Y-%m-%d')\n",
    "begin_date\n",
    "\n",
    "end_date= pd.to_datetime('2015-12-31', format = '%Y-%m-%d')\n",
    "end_date"
   ]
  },
  {
   "cell_type": "code",
   "execution_count": 59,
   "metadata": {
    "collapsed": false
   },
   "outputs": [
    {
     "data": {
      "text/plain": [
       "rcra_id                       object\n",
       "start_date                    object\n",
       "evaluation_count               int64\n",
       "violation                       bool\n",
       "enforcement                     bool\n",
       "formal_enforcement             int64\n",
       "approx_qty                   float64\n",
       "waste_code_1                  object\n",
       "start_dateD           datetime64[ns]\n",
       "start_year                     int64\n",
       "waste_code                    object\n",
       "state                         object\n",
       "violation_dum                  int64\n",
       "enforcement_dum                int64\n",
       "dtype: object"
      ]
     },
     "execution_count": 59,
     "metadata": {},
     "output_type": "execute_result"
    }
   ],
   "source": [
    "df.dtypes"
   ]
  },
  {
   "cell_type": "code",
   "execution_count": 60,
   "metadata": {
    "collapsed": false
   },
   "outputs": [],
   "source": [
    "    mask = (df['start_dateD'] > begin_date) & (df['start_dateD'] <= end_date)"
   ]
  },
  {
   "cell_type": "code",
   "execution_count": 15,
   "metadata": {
    "collapsed": true
   },
   "outputs": [],
   "source": [
    "#    mask = (df['start_dateD'] > '2006-01-01') & (df['start_dateD'] <= '2015-12-31')\n"
   ]
  },
  {
   "cell_type": "code",
   "execution_count": 61,
   "metadata": {
    "collapsed": true
   },
   "outputs": [],
   "source": [
    "dfsub = df.loc[mask]"
   ]
  },
  {
   "cell_type": "code",
   "execution_count": 46,
   "metadata": {
    "collapsed": false
   },
   "outputs": [
    {
     "data": {
      "text/html": [
       "<div>\n",
       "<table border=\"1\" class=\"dataframe\">\n",
       "  <thead>\n",
       "    <tr style=\"text-align: right;\">\n",
       "      <th></th>\n",
       "      <th>rcra_id</th>\n",
       "      <th>start_date</th>\n",
       "      <th>evaluation_count</th>\n",
       "      <th>violation</th>\n",
       "      <th>enforcement</th>\n",
       "      <th>formal_enforcement</th>\n",
       "      <th>approx_qty</th>\n",
       "      <th>waste_code_1</th>\n",
       "      <th>start_dateD</th>\n",
       "      <th>start_year</th>\n",
       "      <th>waste_code</th>\n",
       "      <th>state</th>\n",
       "      <th>violation_dum</th>\n",
       "      <th>enforcement_dum</th>\n",
       "    </tr>\n",
       "  </thead>\n",
       "  <tbody>\n",
       "    <tr>\n",
       "      <th>0</th>\n",
       "      <td>NY0000001107</td>\n",
       "      <td>2009-03-24</td>\n",
       "      <td>28</td>\n",
       "      <td>True</td>\n",
       "      <td>True</td>\n",
       "      <td>1</td>\n",
       "      <td>0.385808</td>\n",
       "      <td>D001</td>\n",
       "      <td>2009-03-24</td>\n",
       "      <td>2009</td>\n",
       "      <td>D</td>\n",
       "      <td>NY</td>\n",
       "      <td>1</td>\n",
       "      <td>1</td>\n",
       "    </tr>\n",
       "    <tr>\n",
       "      <th>1</th>\n",
       "      <td>NY0000001107</td>\n",
       "      <td>2009-03-24</td>\n",
       "      <td>28</td>\n",
       "      <td>True</td>\n",
       "      <td>True</td>\n",
       "      <td>1</td>\n",
       "      <td>0.595247</td>\n",
       "      <td>D001</td>\n",
       "      <td>2009-03-24</td>\n",
       "      <td>2009</td>\n",
       "      <td>D</td>\n",
       "      <td>NY</td>\n",
       "      <td>1</td>\n",
       "      <td>1</td>\n",
       "    </tr>\n",
       "    <tr>\n",
       "      <th>2</th>\n",
       "      <td>NY0000001107</td>\n",
       "      <td>2009-03-24</td>\n",
       "      <td>28</td>\n",
       "      <td>True</td>\n",
       "      <td>True</td>\n",
       "      <td>1</td>\n",
       "      <td>0.454152</td>\n",
       "      <td>D001</td>\n",
       "      <td>2009-03-24</td>\n",
       "      <td>2009</td>\n",
       "      <td>D</td>\n",
       "      <td>NY</td>\n",
       "      <td>1</td>\n",
       "      <td>1</td>\n",
       "    </tr>\n",
       "    <tr>\n",
       "      <th>3</th>\n",
       "      <td>NY0000001107</td>\n",
       "      <td>2009-03-24</td>\n",
       "      <td>28</td>\n",
       "      <td>True</td>\n",
       "      <td>True</td>\n",
       "      <td>1</td>\n",
       "      <td>80.000000</td>\n",
       "      <td>D002</td>\n",
       "      <td>2009-03-24</td>\n",
       "      <td>2009</td>\n",
       "      <td>D</td>\n",
       "      <td>NY</td>\n",
       "      <td>1</td>\n",
       "      <td>1</td>\n",
       "    </tr>\n",
       "    <tr>\n",
       "      <th>4</th>\n",
       "      <td>NY0000001107</td>\n",
       "      <td>2009-03-24</td>\n",
       "      <td>28</td>\n",
       "      <td>True</td>\n",
       "      <td>True</td>\n",
       "      <td>1</td>\n",
       "      <td>5.000000</td>\n",
       "      <td>D002</td>\n",
       "      <td>2009-03-24</td>\n",
       "      <td>2009</td>\n",
       "      <td>D</td>\n",
       "      <td>NY</td>\n",
       "      <td>1</td>\n",
       "      <td>1</td>\n",
       "    </tr>\n",
       "  </tbody>\n",
       "</table>\n",
       "</div>"
      ],
      "text/plain": [
       "        rcra_id  start_date  evaluation_count violation enforcement  \\\n",
       "0  NY0000001107  2009-03-24                28      True        True   \n",
       "1  NY0000001107  2009-03-24                28      True        True   \n",
       "2  NY0000001107  2009-03-24                28      True        True   \n",
       "3  NY0000001107  2009-03-24                28      True        True   \n",
       "4  NY0000001107  2009-03-24                28      True        True   \n",
       "\n",
       "   formal_enforcement  approx_qty waste_code_1 start_dateD  start_year  \\\n",
       "0                   1    0.385808         D001  2009-03-24        2009   \n",
       "1                   1    0.595247         D001  2009-03-24        2009   \n",
       "2                   1    0.454152         D001  2009-03-24        2009   \n",
       "3                   1   80.000000         D002  2009-03-24        2009   \n",
       "4                   1    5.000000         D002  2009-03-24        2009   \n",
       "\n",
       "  waste_code state  violation_dum  enforcement_dum  \n",
       "0          D    NY              1                1  \n",
       "1          D    NY              1                1  \n",
       "2          D    NY              1                1  \n",
       "3          D    NY              1                1  \n",
       "4          D    NY              1                1  "
      ]
     },
     "execution_count": 46,
     "metadata": {},
     "output_type": "execute_result"
    }
   ],
   "source": [
    "#dfsub.head()"
   ]
  },
  {
   "cell_type": "code",
   "execution_count": 64,
   "metadata": {
    "collapsed": false
   },
   "outputs": [
    {
     "data": {
      "text/plain": [
       "array(['2006', '2007', '2008', '2009', '2010', '2011', '2012', '2013',\n",
       "       '2014', '2015'], \n",
       "      dtype='<U4')"
      ]
     },
     "execution_count": 64,
     "metadata": {},
     "output_type": "execute_result"
    }
   ],
   "source": [
    "np.unique(dfsub.start_year)"
   ]
  },
  {
   "cell_type": "code",
   "execution_count": 63,
   "metadata": {
    "collapsed": false
   },
   "outputs": [
    {
     "name": "stderr",
     "output_type": "stream",
     "text": [
      "/usr/local/lib/python3.4/dist-packages/pandas/core/generic.py:2701: SettingWithCopyWarning: \n",
      "A value is trying to be set on a copy of a slice from a DataFrame.\n",
      "Try using .loc[row_indexer,col_indexer] = value instead\n",
      "\n",
      "See the caveats in the documentation: http://pandas.pydata.org/pandas-docs/stable/indexing.html#indexing-view-versus-copy\n",
      "  self[name] = value\n"
     ]
    }
   ],
   "source": [
    "dfsub.start_year = df.start_year.astype(str)"
   ]
  },
  {
   "cell_type": "code",
   "execution_count": 65,
   "metadata": {
    "collapsed": false
   },
   "outputs": [
    {
     "data": {
      "text/html": [
       "<div>\n",
       "<table border=\"1\" class=\"dataframe\">\n",
       "  <thead>\n",
       "    <tr style=\"text-align: right;\">\n",
       "      <th></th>\n",
       "      <th>rcra_id</th>\n",
       "      <th>start_date</th>\n",
       "      <th>evaluation_count</th>\n",
       "      <th>violation</th>\n",
       "      <th>enforcement</th>\n",
       "      <th>formal_enforcement</th>\n",
       "      <th>approx_qty</th>\n",
       "      <th>waste_code_1</th>\n",
       "      <th>start_dateD</th>\n",
       "      <th>start_year</th>\n",
       "      <th>waste_code</th>\n",
       "      <th>state</th>\n",
       "      <th>violation_dum</th>\n",
       "      <th>enforcement_dum</th>\n",
       "    </tr>\n",
       "  </thead>\n",
       "  <tbody>\n",
       "    <tr>\n",
       "      <th>0</th>\n",
       "      <td>NY0000001107</td>\n",
       "      <td>2009-03-24</td>\n",
       "      <td>28</td>\n",
       "      <td>True</td>\n",
       "      <td>True</td>\n",
       "      <td>1</td>\n",
       "      <td>0.385808</td>\n",
       "      <td>D001</td>\n",
       "      <td>2009-03-24</td>\n",
       "      <td>2009</td>\n",
       "      <td>D</td>\n",
       "      <td>NY</td>\n",
       "      <td>1</td>\n",
       "      <td>1</td>\n",
       "    </tr>\n",
       "    <tr>\n",
       "      <th>1</th>\n",
       "      <td>NY0000001107</td>\n",
       "      <td>2009-03-24</td>\n",
       "      <td>28</td>\n",
       "      <td>True</td>\n",
       "      <td>True</td>\n",
       "      <td>1</td>\n",
       "      <td>0.595247</td>\n",
       "      <td>D001</td>\n",
       "      <td>2009-03-24</td>\n",
       "      <td>2009</td>\n",
       "      <td>D</td>\n",
       "      <td>NY</td>\n",
       "      <td>1</td>\n",
       "      <td>1</td>\n",
       "    </tr>\n",
       "    <tr>\n",
       "      <th>2</th>\n",
       "      <td>NY0000001107</td>\n",
       "      <td>2009-03-24</td>\n",
       "      <td>28</td>\n",
       "      <td>True</td>\n",
       "      <td>True</td>\n",
       "      <td>1</td>\n",
       "      <td>0.454152</td>\n",
       "      <td>D001</td>\n",
       "      <td>2009-03-24</td>\n",
       "      <td>2009</td>\n",
       "      <td>D</td>\n",
       "      <td>NY</td>\n",
       "      <td>1</td>\n",
       "      <td>1</td>\n",
       "    </tr>\n",
       "    <tr>\n",
       "      <th>3</th>\n",
       "      <td>NY0000001107</td>\n",
       "      <td>2009-03-24</td>\n",
       "      <td>28</td>\n",
       "      <td>True</td>\n",
       "      <td>True</td>\n",
       "      <td>1</td>\n",
       "      <td>80.000000</td>\n",
       "      <td>D002</td>\n",
       "      <td>2009-03-24</td>\n",
       "      <td>2009</td>\n",
       "      <td>D</td>\n",
       "      <td>NY</td>\n",
       "      <td>1</td>\n",
       "      <td>1</td>\n",
       "    </tr>\n",
       "    <tr>\n",
       "      <th>4</th>\n",
       "      <td>NY0000001107</td>\n",
       "      <td>2009-03-24</td>\n",
       "      <td>28</td>\n",
       "      <td>True</td>\n",
       "      <td>True</td>\n",
       "      <td>1</td>\n",
       "      <td>5.000000</td>\n",
       "      <td>D002</td>\n",
       "      <td>2009-03-24</td>\n",
       "      <td>2009</td>\n",
       "      <td>D</td>\n",
       "      <td>NY</td>\n",
       "      <td>1</td>\n",
       "      <td>1</td>\n",
       "    </tr>\n",
       "  </tbody>\n",
       "</table>\n",
       "</div>"
      ],
      "text/plain": [
       "        rcra_id  start_date  evaluation_count violation enforcement  \\\n",
       "0  NY0000001107  2009-03-24                28      True        True   \n",
       "1  NY0000001107  2009-03-24                28      True        True   \n",
       "2  NY0000001107  2009-03-24                28      True        True   \n",
       "3  NY0000001107  2009-03-24                28      True        True   \n",
       "4  NY0000001107  2009-03-24                28      True        True   \n",
       "\n",
       "   formal_enforcement  approx_qty waste_code_1 start_dateD start_year  \\\n",
       "0                   1    0.385808         D001  2009-03-24       2009   \n",
       "1                   1    0.595247         D001  2009-03-24       2009   \n",
       "2                   1    0.454152         D001  2009-03-24       2009   \n",
       "3                   1   80.000000         D002  2009-03-24       2009   \n",
       "4                   1    5.000000         D002  2009-03-24       2009   \n",
       "\n",
       "  waste_code state  violation_dum  enforcement_dum  \n",
       "0          D    NY              1                1  \n",
       "1          D    NY              1                1  \n",
       "2          D    NY              1                1  \n",
       "3          D    NY              1                1  \n",
       "4          D    NY              1                1  "
      ]
     },
     "execution_count": 65,
     "metadata": {},
     "output_type": "execute_result"
    }
   ],
   "source": [
    "dfsub.head()"
   ]
  },
  {
   "cell_type": "code",
   "execution_count": 27,
   "metadata": {
    "collapsed": false
   },
   "outputs": [
    {
     "name": "stdout",
     "output_type": "stream",
     "text": [
      "   year_2009\n",
      "0          1\n",
      "1          1\n",
      "2          1\n",
      "3          1\n",
      "4          1\n"
     ]
    }
   ],
   "source": [
    "#dummify years\n",
    "\n",
    "dummy_years = pd.get_dummies(dfsub['start_year'], prefix = 'year').astype(np.int64)\n",
    "print(dummy_years.head())\n",
    "dummy_waste_codes = pd.get_dummies(dfsub['waste_code'], prefix = 'waste_code').astype(np.int64)\n",
    "#train_cols = pd.concat([dfsub[['evaluation_count', 'approx_qty','waste_code']], dummy_years], axis=1)\n",
    "#dfsub = pd.concat([dfsub, dummy_years, dummy_waste_codes], axis=1)\n",
    "\n",
    "#dfsub['violation_dum'] = dfsub['violation_dum'].astype(np.int64)"
   ]
  },
  {
   "cell_type": "code",
   "execution_count": 30,
   "metadata": {
    "collapsed": false
   },
   "outputs": [
    {
     "data": {
      "text/html": [
       "<div>\n",
       "<table border=\"1\" class=\"dataframe\">\n",
       "  <thead>\n",
       "    <tr style=\"text-align: right;\">\n",
       "      <th></th>\n",
       "      <th>rcra_id</th>\n",
       "      <th>start_date</th>\n",
       "      <th>evaluation_count</th>\n",
       "      <th>violation</th>\n",
       "      <th>enforcement</th>\n",
       "      <th>formal_enforcement</th>\n",
       "      <th>approx_qty</th>\n",
       "      <th>waste_code_1</th>\n",
       "      <th>start_dateD</th>\n",
       "      <th>start_year</th>\n",
       "      <th>waste_code</th>\n",
       "      <th>state</th>\n",
       "      <th>violation_dum</th>\n",
       "      <th>enforcement_dum</th>\n",
       "      <th>intercept</th>\n",
       "    </tr>\n",
       "  </thead>\n",
       "  <tbody>\n",
       "    <tr>\n",
       "      <th>0</th>\n",
       "      <td>NY0000001107</td>\n",
       "      <td>2009-03-24</td>\n",
       "      <td>28</td>\n",
       "      <td>True</td>\n",
       "      <td>True</td>\n",
       "      <td>1</td>\n",
       "      <td>0.385808</td>\n",
       "      <td>D001</td>\n",
       "      <td>2009-03-24</td>\n",
       "      <td>2009</td>\n",
       "      <td>D</td>\n",
       "      <td>NY</td>\n",
       "      <td>1</td>\n",
       "      <td>1</td>\n",
       "      <td>1.0</td>\n",
       "    </tr>\n",
       "    <tr>\n",
       "      <th>1</th>\n",
       "      <td>NY0000001107</td>\n",
       "      <td>2009-03-24</td>\n",
       "      <td>28</td>\n",
       "      <td>True</td>\n",
       "      <td>True</td>\n",
       "      <td>1</td>\n",
       "      <td>0.595247</td>\n",
       "      <td>D001</td>\n",
       "      <td>2009-03-24</td>\n",
       "      <td>2009</td>\n",
       "      <td>D</td>\n",
       "      <td>NY</td>\n",
       "      <td>1</td>\n",
       "      <td>1</td>\n",
       "      <td>1.0</td>\n",
       "    </tr>\n",
       "    <tr>\n",
       "      <th>2</th>\n",
       "      <td>NY0000001107</td>\n",
       "      <td>2009-03-24</td>\n",
       "      <td>28</td>\n",
       "      <td>True</td>\n",
       "      <td>True</td>\n",
       "      <td>1</td>\n",
       "      <td>0.454152</td>\n",
       "      <td>D001</td>\n",
       "      <td>2009-03-24</td>\n",
       "      <td>2009</td>\n",
       "      <td>D</td>\n",
       "      <td>NY</td>\n",
       "      <td>1</td>\n",
       "      <td>1</td>\n",
       "      <td>1.0</td>\n",
       "    </tr>\n",
       "    <tr>\n",
       "      <th>3</th>\n",
       "      <td>NY0000001107</td>\n",
       "      <td>2009-03-24</td>\n",
       "      <td>28</td>\n",
       "      <td>True</td>\n",
       "      <td>True</td>\n",
       "      <td>1</td>\n",
       "      <td>80.000000</td>\n",
       "      <td>D002</td>\n",
       "      <td>2009-03-24</td>\n",
       "      <td>2009</td>\n",
       "      <td>D</td>\n",
       "      <td>NY</td>\n",
       "      <td>1</td>\n",
       "      <td>1</td>\n",
       "      <td>1.0</td>\n",
       "    </tr>\n",
       "    <tr>\n",
       "      <th>4</th>\n",
       "      <td>NY0000001107</td>\n",
       "      <td>2009-03-24</td>\n",
       "      <td>28</td>\n",
       "      <td>True</td>\n",
       "      <td>True</td>\n",
       "      <td>1</td>\n",
       "      <td>5.000000</td>\n",
       "      <td>D002</td>\n",
       "      <td>2009-03-24</td>\n",
       "      <td>2009</td>\n",
       "      <td>D</td>\n",
       "      <td>NY</td>\n",
       "      <td>1</td>\n",
       "      <td>1</td>\n",
       "      <td>1.0</td>\n",
       "    </tr>\n",
       "  </tbody>\n",
       "</table>\n",
       "</div>"
      ],
      "text/plain": [
       "        rcra_id  start_date  evaluation_count violation enforcement  \\\n",
       "0  NY0000001107  2009-03-24                28      True        True   \n",
       "1  NY0000001107  2009-03-24                28      True        True   \n",
       "2  NY0000001107  2009-03-24                28      True        True   \n",
       "3  NY0000001107  2009-03-24                28      True        True   \n",
       "4  NY0000001107  2009-03-24                28      True        True   \n",
       "\n",
       "   formal_enforcement  approx_qty waste_code_1 start_dateD start_year  \\\n",
       "0                   1    0.385808         D001  2009-03-24       2009   \n",
       "1                   1    0.595247         D001  2009-03-24       2009   \n",
       "2                   1    0.454152         D001  2009-03-24       2009   \n",
       "3                   1   80.000000         D002  2009-03-24       2009   \n",
       "4                   1    5.000000         D002  2009-03-24       2009   \n",
       "\n",
       "  waste_code state  violation_dum  enforcement_dum  intercept  \n",
       "0          D    NY              1                1        1.0  \n",
       "1          D    NY              1                1        1.0  \n",
       "2          D    NY              1                1        1.0  \n",
       "3          D    NY              1                1        1.0  \n",
       "4          D    NY              1                1        1.0  "
      ]
     },
     "execution_count": 30,
     "metadata": {},
     "output_type": "execute_result"
    }
   ],
   "source": [
    "dfsub.head()\n",
    "#dfsub.dtypes"
   ]
  },
  {
   "cell_type": "code",
   "execution_count": 125,
   "metadata": {
    "collapsed": false
   },
   "outputs": [
    {
     "data": {
      "text/html": [
       "<div>\n",
       "<table border=\"1\" class=\"dataframe\">\n",
       "  <thead>\n",
       "    <tr style=\"text-align: right;\">\n",
       "      <th></th>\n",
       "      <th>year_2006</th>\n",
       "      <th>year_2007</th>\n",
       "      <th>year_2008</th>\n",
       "      <th>year_2009</th>\n",
       "      <th>year_2010</th>\n",
       "      <th>year_2011</th>\n",
       "      <th>year_2012</th>\n",
       "      <th>year_2013</th>\n",
       "      <th>year_2014</th>\n",
       "      <th>year_2015</th>\n",
       "    </tr>\n",
       "  </thead>\n",
       "  <tbody>\n",
       "    <tr>\n",
       "      <th>15637946</th>\n",
       "      <td>0</td>\n",
       "      <td>0</td>\n",
       "      <td>0</td>\n",
       "      <td>1</td>\n",
       "      <td>0</td>\n",
       "      <td>0</td>\n",
       "      <td>0</td>\n",
       "      <td>0</td>\n",
       "      <td>0</td>\n",
       "      <td>0</td>\n",
       "    </tr>\n",
       "    <tr>\n",
       "      <th>15637947</th>\n",
       "      <td>0</td>\n",
       "      <td>0</td>\n",
       "      <td>0</td>\n",
       "      <td>1</td>\n",
       "      <td>0</td>\n",
       "      <td>0</td>\n",
       "      <td>0</td>\n",
       "      <td>0</td>\n",
       "      <td>0</td>\n",
       "      <td>0</td>\n",
       "    </tr>\n",
       "    <tr>\n",
       "      <th>15637948</th>\n",
       "      <td>0</td>\n",
       "      <td>0</td>\n",
       "      <td>0</td>\n",
       "      <td>1</td>\n",
       "      <td>0</td>\n",
       "      <td>0</td>\n",
       "      <td>0</td>\n",
       "      <td>0</td>\n",
       "      <td>0</td>\n",
       "      <td>0</td>\n",
       "    </tr>\n",
       "    <tr>\n",
       "      <th>15637949</th>\n",
       "      <td>0</td>\n",
       "      <td>0</td>\n",
       "      <td>0</td>\n",
       "      <td>1</td>\n",
       "      <td>0</td>\n",
       "      <td>0</td>\n",
       "      <td>0</td>\n",
       "      <td>0</td>\n",
       "      <td>0</td>\n",
       "      <td>0</td>\n",
       "    </tr>\n",
       "    <tr>\n",
       "      <th>15637950</th>\n",
       "      <td>0</td>\n",
       "      <td>0</td>\n",
       "      <td>0</td>\n",
       "      <td>1</td>\n",
       "      <td>0</td>\n",
       "      <td>0</td>\n",
       "      <td>0</td>\n",
       "      <td>0</td>\n",
       "      <td>0</td>\n",
       "      <td>0</td>\n",
       "    </tr>\n",
       "  </tbody>\n",
       "</table>\n",
       "</div>"
      ],
      "text/plain": [
       "          year_2006  year_2007  year_2008  year_2009  year_2010  year_2011  \\\n",
       "15637946          0          0          0          1          0          0   \n",
       "15637947          0          0          0          1          0          0   \n",
       "15637948          0          0          0          1          0          0   \n",
       "15637949          0          0          0          1          0          0   \n",
       "15637950          0          0          0          1          0          0   \n",
       "\n",
       "          year_2012  year_2013  year_2014  year_2015  \n",
       "15637946          0          0          0          0  \n",
       "15637947          0          0          0          0  \n",
       "15637948          0          0          0          0  \n",
       "15637949          0          0          0          0  \n",
       "15637950          0          0          0          0  "
      ]
     },
     "execution_count": 125,
     "metadata": {},
     "output_type": "execute_result"
    }
   ],
   "source": [
    "#dummy_years.tail()\n",
    "#dfsub.tail()\n",
    "#15637950"
   ]
  },
  {
   "cell_type": "code",
   "execution_count": 66,
   "metadata": {
    "collapsed": false
   },
   "outputs": [
    {
     "name": "stderr",
     "output_type": "stream",
     "text": [
      "/usr/local/lib/python3.4/dist-packages/ipykernel/__main__.py:1: SettingWithCopyWarning: \n",
      "A value is trying to be set on a copy of a slice from a DataFrame.\n",
      "Try using .loc[row_indexer,col_indexer] = value instead\n",
      "\n",
      "See the caveats in the documentation: http://pandas.pydata.org/pandas-docs/stable/indexing.html#indexing-view-versus-copy\n",
      "  if __name__ == '__main__':\n"
     ]
    }
   ],
   "source": [
    "dfsub['intercept'] = 1.0\n"
   ]
  },
  {
   "cell_type": "code",
   "execution_count": 127,
   "metadata": {
    "collapsed": false
   },
   "outputs": [
    {
     "data": {
      "text/html": [
       "<div>\n",
       "<table border=\"1\" class=\"dataframe\">\n",
       "  <thead>\n",
       "    <tr style=\"text-align: right;\">\n",
       "      <th></th>\n",
       "      <th>evaluation_count</th>\n",
       "      <th>approx_qty</th>\n",
       "      <th>start_year</th>\n",
       "      <th>waste_code</th>\n",
       "      <th>violation_dum</th>\n",
       "    </tr>\n",
       "  </thead>\n",
       "  <tbody>\n",
       "    <tr>\n",
       "      <th>0</th>\n",
       "      <td>28</td>\n",
       "      <td>0.385808</td>\n",
       "      <td>2009</td>\n",
       "      <td>D</td>\n",
       "      <td>1</td>\n",
       "    </tr>\n",
       "    <tr>\n",
       "      <th>1</th>\n",
       "      <td>28</td>\n",
       "      <td>0.595247</td>\n",
       "      <td>2009</td>\n",
       "      <td>D</td>\n",
       "      <td>1</td>\n",
       "    </tr>\n",
       "    <tr>\n",
       "      <th>2</th>\n",
       "      <td>28</td>\n",
       "      <td>0.454152</td>\n",
       "      <td>2009</td>\n",
       "      <td>D</td>\n",
       "      <td>1</td>\n",
       "    </tr>\n",
       "    <tr>\n",
       "      <th>3</th>\n",
       "      <td>28</td>\n",
       "      <td>80.000000</td>\n",
       "      <td>2009</td>\n",
       "      <td>D</td>\n",
       "      <td>1</td>\n",
       "    </tr>\n",
       "    <tr>\n",
       "      <th>4</th>\n",
       "      <td>28</td>\n",
       "      <td>5.000000</td>\n",
       "      <td>2009</td>\n",
       "      <td>D</td>\n",
       "      <td>1</td>\n",
       "    </tr>\n",
       "  </tbody>\n",
       "</table>\n",
       "</div>"
      ],
      "text/plain": [
       "   evaluation_count  approx_qty start_year waste_code  violation_dum\n",
       "0                28    0.385808       2009          D              1\n",
       "1                28    0.595247       2009          D              1\n",
       "2                28    0.454152       2009          D              1\n",
       "3                28   80.000000       2009          D              1\n",
       "4                28    5.000000       2009          D              1"
      ]
     },
     "execution_count": 127,
     "metadata": {},
     "output_type": "execute_result"
    }
   ],
   "source": [
    "#dfsub[['evaluation_count', 'approx_qty','start_year','waste_code','violation_dum']].head()\n",
    "# df1.loc['d':, 'A':'C']"
   ]
  },
  {
   "cell_type": "code",
   "execution_count": 128,
   "metadata": {
    "collapsed": false
   },
   "outputs": [
    {
     "ename": "KeyError",
     "evalue": "\"['waste_code_' 'waste_code_B' 'waste_code_F' 'waste_code_K' 'waste_code_P'\\n 'waste_code_S' 'waste_code_U' 'year_2006' 'year_2007' 'year_2008'\\n 'year_2010' 'year_2011' 'year_2012' 'year_2013' 'year_2014' 'year_2015'] not in index\"",
     "output_type": "error",
     "traceback": [
      "\u001b[1;31m-------------------------------------------------------------------\u001b[0m",
      "\u001b[1;31mKeyError\u001b[0m                          Traceback (most recent call last)",
      "\u001b[1;32m<ipython-input-128-4f132118e65e>\u001b[0m in \u001b[0;36m<module>\u001b[1;34m()\u001b[0m\n\u001b[0;32m      6\u001b[0m                     \u001b[1;34m'waste_code_P'\u001b[0m\u001b[1;33m,\u001b[0m \u001b[1;34m'waste_code_S'\u001b[0m\u001b[1;33m,\u001b[0m \u001b[1;34m'waste_code_U'\u001b[0m\u001b[1;33m,\u001b[0m\u001b[1;33m\u001b[0m\u001b[0m\n\u001b[0;32m      7\u001b[0m                     \u001b[1;34m'year_2006'\u001b[0m\u001b[1;33m,\u001b[0m\u001b[1;34m'year_2007'\u001b[0m\u001b[1;33m,\u001b[0m \u001b[1;34m'year_2008'\u001b[0m\u001b[1;33m,\u001b[0m\u001b[1;34m'year_2010'\u001b[0m\u001b[1;33m,\u001b[0m\u001b[1;33m\u001b[0m\u001b[0m\n\u001b[1;32m----> 8\u001b[1;33m                     'year_2011','year_2012', 'year_2013', 'year_2014', 'year_2015']]\n\u001b[0m\u001b[0;32m      9\u001b[0m \u001b[1;33m\u001b[0m\u001b[0m\n\u001b[0;32m     10\u001b[0m test_cols =  dfsub[['evaluation_count', \n",
      "\u001b[1;32m/usr/local/lib/python3.4/dist-packages/pandas/core/frame.py\u001b[0m in \u001b[0;36m__getitem__\u001b[1;34m(self, key)\u001b[0m\n\u001b[0;32m   1989\u001b[0m         \u001b[1;32mif\u001b[0m \u001b[0misinstance\u001b[0m\u001b[1;33m(\u001b[0m\u001b[0mkey\u001b[0m\u001b[1;33m,\u001b[0m \u001b[1;33m(\u001b[0m\u001b[0mSeries\u001b[0m\u001b[1;33m,\u001b[0m \u001b[0mnp\u001b[0m\u001b[1;33m.\u001b[0m\u001b[0mndarray\u001b[0m\u001b[1;33m,\u001b[0m \u001b[0mIndex\u001b[0m\u001b[1;33m,\u001b[0m \u001b[0mlist\u001b[0m\u001b[1;33m)\u001b[0m\u001b[1;33m)\u001b[0m\u001b[1;33m:\u001b[0m\u001b[1;33m\u001b[0m\u001b[0m\n\u001b[0;32m   1990\u001b[0m             \u001b[1;31m# either boolean or fancy integer index\u001b[0m\u001b[1;33m\u001b[0m\u001b[1;33m\u001b[0m\u001b[0m\n\u001b[1;32m-> 1991\u001b[1;33m             \u001b[1;32mreturn\u001b[0m \u001b[0mself\u001b[0m\u001b[1;33m.\u001b[0m\u001b[0m_getitem_array\u001b[0m\u001b[1;33m(\u001b[0m\u001b[0mkey\u001b[0m\u001b[1;33m)\u001b[0m\u001b[1;33m\u001b[0m\u001b[0m\n\u001b[0m\u001b[0;32m   1992\u001b[0m         \u001b[1;32melif\u001b[0m \u001b[0misinstance\u001b[0m\u001b[1;33m(\u001b[0m\u001b[0mkey\u001b[0m\u001b[1;33m,\u001b[0m \u001b[0mDataFrame\u001b[0m\u001b[1;33m)\u001b[0m\u001b[1;33m:\u001b[0m\u001b[1;33m\u001b[0m\u001b[0m\n\u001b[0;32m   1993\u001b[0m             \u001b[1;32mreturn\u001b[0m \u001b[0mself\u001b[0m\u001b[1;33m.\u001b[0m\u001b[0m_getitem_frame\u001b[0m\u001b[1;33m(\u001b[0m\u001b[0mkey\u001b[0m\u001b[1;33m)\u001b[0m\u001b[1;33m\u001b[0m\u001b[0m\n",
      "\u001b[1;32m/usr/local/lib/python3.4/dist-packages/pandas/core/frame.py\u001b[0m in \u001b[0;36m_getitem_array\u001b[1;34m(self, key)\u001b[0m\n\u001b[0;32m   2033\u001b[0m             \u001b[1;32mreturn\u001b[0m \u001b[0mself\u001b[0m\u001b[1;33m.\u001b[0m\u001b[0mtake\u001b[0m\u001b[1;33m(\u001b[0m\u001b[0mindexer\u001b[0m\u001b[1;33m,\u001b[0m \u001b[0maxis\u001b[0m\u001b[1;33m=\u001b[0m\u001b[1;36m0\u001b[0m\u001b[1;33m,\u001b[0m \u001b[0mconvert\u001b[0m\u001b[1;33m=\u001b[0m\u001b[1;32mFalse\u001b[0m\u001b[1;33m)\u001b[0m\u001b[1;33m\u001b[0m\u001b[0m\n\u001b[0;32m   2034\u001b[0m         \u001b[1;32melse\u001b[0m\u001b[1;33m:\u001b[0m\u001b[1;33m\u001b[0m\u001b[0m\n\u001b[1;32m-> 2035\u001b[1;33m             \u001b[0mindexer\u001b[0m \u001b[1;33m=\u001b[0m \u001b[0mself\u001b[0m\u001b[1;33m.\u001b[0m\u001b[0mix\u001b[0m\u001b[1;33m.\u001b[0m\u001b[0m_convert_to_indexer\u001b[0m\u001b[1;33m(\u001b[0m\u001b[0mkey\u001b[0m\u001b[1;33m,\u001b[0m \u001b[0maxis\u001b[0m\u001b[1;33m=\u001b[0m\u001b[1;36m1\u001b[0m\u001b[1;33m)\u001b[0m\u001b[1;33m\u001b[0m\u001b[0m\n\u001b[0m\u001b[0;32m   2036\u001b[0m             \u001b[1;32mreturn\u001b[0m \u001b[0mself\u001b[0m\u001b[1;33m.\u001b[0m\u001b[0mtake\u001b[0m\u001b[1;33m(\u001b[0m\u001b[0mindexer\u001b[0m\u001b[1;33m,\u001b[0m \u001b[0maxis\u001b[0m\u001b[1;33m=\u001b[0m\u001b[1;36m1\u001b[0m\u001b[1;33m,\u001b[0m \u001b[0mconvert\u001b[0m\u001b[1;33m=\u001b[0m\u001b[1;32mTrue\u001b[0m\u001b[1;33m)\u001b[0m\u001b[1;33m\u001b[0m\u001b[0m\n\u001b[0;32m   2037\u001b[0m \u001b[1;33m\u001b[0m\u001b[0m\n",
      "\u001b[1;32m/usr/local/lib/python3.4/dist-packages/pandas/core/indexing.py\u001b[0m in \u001b[0;36m_convert_to_indexer\u001b[1;34m(self, obj, axis, is_setter)\u001b[0m\n\u001b[0;32m   1212\u001b[0m                 \u001b[0mmask\u001b[0m \u001b[1;33m=\u001b[0m \u001b[0mcheck\u001b[0m \u001b[1;33m==\u001b[0m \u001b[1;33m-\u001b[0m\u001b[1;36m1\u001b[0m\u001b[1;33m\u001b[0m\u001b[0m\n\u001b[0;32m   1213\u001b[0m                 \u001b[1;32mif\u001b[0m \u001b[0mmask\u001b[0m\u001b[1;33m.\u001b[0m\u001b[0many\u001b[0m\u001b[1;33m(\u001b[0m\u001b[1;33m)\u001b[0m\u001b[1;33m:\u001b[0m\u001b[1;33m\u001b[0m\u001b[0m\n\u001b[1;32m-> 1214\u001b[1;33m                     \u001b[1;32mraise\u001b[0m \u001b[0mKeyError\u001b[0m\u001b[1;33m(\u001b[0m\u001b[1;34m'%s not in index'\u001b[0m \u001b[1;33m%\u001b[0m \u001b[0mobjarr\u001b[0m\u001b[1;33m[\u001b[0m\u001b[0mmask\u001b[0m\u001b[1;33m]\u001b[0m\u001b[1;33m)\u001b[0m\u001b[1;33m\u001b[0m\u001b[0m\n\u001b[0m\u001b[0;32m   1215\u001b[0m \u001b[1;33m\u001b[0m\u001b[0m\n\u001b[0;32m   1216\u001b[0m                 \u001b[1;32mreturn\u001b[0m \u001b[0m_values_from_object\u001b[0m\u001b[1;33m(\u001b[0m\u001b[0mindexer\u001b[0m\u001b[1;33m)\u001b[0m\u001b[1;33m\u001b[0m\u001b[0m\n",
      "\u001b[1;31mKeyError\u001b[0m: \"['waste_code_' 'waste_code_B' 'waste_code_F' 'waste_code_K' 'waste_code_P'\\n 'waste_code_S' 'waste_code_U' 'year_2006' 'year_2007' 'year_2008'\\n 'year_2010' 'year_2011' 'year_2012' 'year_2013' 'year_2014' 'year_2015'] not in index\""
     ]
    }
   ],
   "source": [
    "#train_cols = dfsub.columns[1:]\n",
    "#pd.concat([test1, test2], axis=1)\n",
    "\n",
    "train_cols = dfsub[['approx_qty', 'intercept',\n",
    "                    'waste_code_', 'waste_code_B','waste_code_F','waste_code_K',\n",
    "                    'waste_code_P', 'waste_code_S', 'waste_code_U',\n",
    "                    'year_2006','year_2007', 'year_2008','year_2010',\n",
    "                    'year_2011','year_2012', 'year_2013', 'year_2014', 'year_2015']]\n",
    "\n",
    "test_cols =  dfsub[['evaluation_count', \n",
    "                    'approx_qty', 'intercept',\n",
    "                    'waste_code_', 'waste_code_B','waste_code_F','waste_code_K',\n",
    "                    'waste_code_P', 'waste_code_S', 'waste_code_U']]\n"
   ]
  },
  {
   "cell_type": "code",
   "execution_count": 147,
   "metadata": {
    "collapsed": false
   },
   "outputs": [
    {
     "data": {
      "text/html": [
       "<div>\n",
       "<table border=\"1\" class=\"dataframe\">\n",
       "  <thead>\n",
       "    <tr style=\"text-align: right;\">\n",
       "      <th></th>\n",
       "      <th>waste_code_</th>\n",
       "      <th>waste_code_B</th>\n",
       "      <th>waste_code_D</th>\n",
       "      <th>waste_code_F</th>\n",
       "      <th>waste_code_K</th>\n",
       "      <th>waste_code_P</th>\n",
       "      <th>waste_code_S</th>\n",
       "      <th>waste_code_U</th>\n",
       "    </tr>\n",
       "  </thead>\n",
       "  <tbody>\n",
       "    <tr>\n",
       "      <th>0</th>\n",
       "      <td>0</td>\n",
       "      <td>0</td>\n",
       "      <td>1</td>\n",
       "      <td>0</td>\n",
       "      <td>0</td>\n",
       "      <td>0</td>\n",
       "      <td>0</td>\n",
       "      <td>0</td>\n",
       "    </tr>\n",
       "    <tr>\n",
       "      <th>1</th>\n",
       "      <td>0</td>\n",
       "      <td>0</td>\n",
       "      <td>1</td>\n",
       "      <td>0</td>\n",
       "      <td>0</td>\n",
       "      <td>0</td>\n",
       "      <td>0</td>\n",
       "      <td>0</td>\n",
       "    </tr>\n",
       "    <tr>\n",
       "      <th>2</th>\n",
       "      <td>0</td>\n",
       "      <td>0</td>\n",
       "      <td>1</td>\n",
       "      <td>0</td>\n",
       "      <td>0</td>\n",
       "      <td>0</td>\n",
       "      <td>0</td>\n",
       "      <td>0</td>\n",
       "    </tr>\n",
       "    <tr>\n",
       "      <th>3</th>\n",
       "      <td>0</td>\n",
       "      <td>0</td>\n",
       "      <td>1</td>\n",
       "      <td>0</td>\n",
       "      <td>0</td>\n",
       "      <td>0</td>\n",
       "      <td>0</td>\n",
       "      <td>0</td>\n",
       "    </tr>\n",
       "    <tr>\n",
       "      <th>4</th>\n",
       "      <td>0</td>\n",
       "      <td>0</td>\n",
       "      <td>1</td>\n",
       "      <td>0</td>\n",
       "      <td>0</td>\n",
       "      <td>0</td>\n",
       "      <td>0</td>\n",
       "      <td>0</td>\n",
       "    </tr>\n",
       "  </tbody>\n",
       "</table>\n",
       "</div>"
      ],
      "text/plain": [
       "   waste_code_  waste_code_B  waste_code_D  waste_code_F  waste_code_K  \\\n",
       "0            0             0             1             0             0   \n",
       "1            0             0             1             0             0   \n",
       "2            0             0             1             0             0   \n",
       "3            0             0             1             0             0   \n",
       "4            0             0             1             0             0   \n",
       "\n",
       "   waste_code_P  waste_code_S  waste_code_U  \n",
       "0             0             0             0  \n",
       "1             0             0             0  \n",
       "2             0             0             0  \n",
       "3             0             0             0  \n",
       "4             0             0             0  "
      ]
     },
     "execution_count": 147,
     "metadata": {},
     "output_type": "execute_result"
    }
   ],
   "source": [
    "dfsub.head()\n",
    "dummy_waste_codes.head()"
   ]
  },
  {
   "cell_type": "code",
   "execution_count": 186,
   "metadata": {
    "collapsed": false
   },
   "outputs": [],
   "source": [
    "cols_to_keep = ['approx_qty']\n",
    "\n",
    "\n",
    "data = dfsub[cols_to_keep].join(dummy_waste_codes.ix[:, 'waste_code_D'])\n",
    "#data = dfsub[cols_to_keep]\n",
    "data = data.head(1000)"
   ]
  },
  {
   "cell_type": "code",
   "execution_count": 187,
   "metadata": {
    "collapsed": false
   },
   "outputs": [
    {
     "name": "stdout",
     "output_type": "stream",
     "text": [
      "Index(['approx_qty', 'intercept', 'waste_code_B', 'waste_code_D',\n",
      "       'waste_code_F', 'waste_code_K', 'waste_code_P', 'waste_code_S',\n",
      "       'waste_code_U'],\n",
      "      dtype='object')\n"
     ]
    }
   ],
   "source": [
    "#cols_to_keep = ['admit', 'gre', 'gpa']\n",
    "\n",
    "cols_to_keep = ['violation_dum','approx_qty', 'intercept']\n",
    "\n",
    "data = dfsub[cols_to_keep].join(dummy_waste_codes.ix[:, 'waste_code_B':])\n",
    "data.head()\n",
    "\n",
    "\n",
    "train_cols = data.columns[1:]\n",
    "print(train_cols)\n",
    "\n",
    "#y, X = dmatrices('violation_dum ~ evaluation_count + approx_qty +C(waste_code)', df, return_type = 'dataframe')"
   ]
  },
  {
   "cell_type": "code",
   "execution_count": 97,
   "metadata": {
    "collapsed": false
   },
   "outputs": [
    {
     "data": {
      "text/plain": [
       "0    1\n",
       "1    1\n",
       "2    1\n",
       "3    1\n",
       "4    1\n",
       "Name: violation_dum, dtype: int64"
      ]
     },
     "execution_count": 97,
     "metadata": {},
     "output_type": "execute_result"
    }
   ],
   "source": [
    "#train_cols.head()\n",
    "#test_cols.head()\n",
    "#dfsub['violation_dum'] = dfsub['violation_dum'].astype(np.int64)\n",
    "dfsub.violation_dum.head()\n"
   ]
  },
  {
   "cell_type": "code",
   "execution_count": 82,
   "metadata": {
    "collapsed": false
   },
   "outputs": [
    {
     "name": "stderr",
     "output_type": "stream",
     "text": [
      "/usr/local/lib/python3.4/dist-packages/ipykernel/__main__.py:1: FutureWarning: sort(columns=....) is deprecated, use sort_values(by=.....)\n",
      "  if __name__ == '__main__':\n"
     ]
    }
   ],
   "source": [
    "test = dfsub.sort(['approx_qty'], ascending=[1]).head(500)"
   ]
  },
  {
   "cell_type": "code",
   "execution_count": 92,
   "metadata": {
    "collapsed": false,
    "scrolled": true
   },
   "outputs": [
    {
     "name": "stdout",
     "output_type": "stream",
     "text": [
      "violation   False  True \n",
      "start_year              \n",
      "2006           32     22\n",
      "2007           56     11\n",
      "2008           15     18\n",
      "2009           68     21\n",
      "2010           17      4\n",
      "2011           23     39\n",
      "2012            1     16\n",
      "2013           49      1\n",
      "2014            6     17\n",
      "2015           74     10\n"
     ]
    }
   ],
   "source": [
    "#Logit on first 100 cases to check that whats wrong\n",
    "np.unique(test.violation_dum)\n",
    "#print(pd.crosstab(dfsub['start_year'], dfsub['violation_dum'], rownames=['start_year']))\n",
    "#print(pd.crosstab(test['start_year'], test['violation_dum'], rownames=['start_year']))\n",
    "print(pd.crosstab(test['start_year'], test['violation'], rownames=['start_year']))\n"
   ]
  },
  {
   "cell_type": "code",
   "execution_count": 99,
   "metadata": {
    "collapsed": false
   },
   "outputs": [
    {
     "data": {
      "text/html": [
       "<div>\n",
       "<table border=\"1\" class=\"dataframe\">\n",
       "  <thead>\n",
       "    <tr style=\"text-align: right;\">\n",
       "      <th></th>\n",
       "      <th>approx_qty</th>\n",
       "      <th>intercept</th>\n",
       "    </tr>\n",
       "  </thead>\n",
       "  <tbody>\n",
       "    <tr>\n",
       "      <th>15263127</th>\n",
       "      <td>0.000220</td>\n",
       "      <td>1.0</td>\n",
       "    </tr>\n",
       "    <tr>\n",
       "      <th>15262625</th>\n",
       "      <td>0.000220</td>\n",
       "      <td>1.0</td>\n",
       "    </tr>\n",
       "    <tr>\n",
       "      <th>15262876</th>\n",
       "      <td>0.000220</td>\n",
       "      <td>1.0</td>\n",
       "    </tr>\n",
       "    <tr>\n",
       "      <th>15262872</th>\n",
       "      <td>0.000287</td>\n",
       "      <td>1.0</td>\n",
       "    </tr>\n",
       "    <tr>\n",
       "      <th>15263123</th>\n",
       "      <td>0.000287</td>\n",
       "      <td>1.0</td>\n",
       "    </tr>\n",
       "  </tbody>\n",
       "</table>\n",
       "</div>"
      ],
      "text/plain": [
       "          approx_qty  intercept\n",
       "15263127    0.000220        1.0\n",
       "15262625    0.000220        1.0\n",
       "15262876    0.000220        1.0\n",
       "15262872    0.000287        1.0\n",
       "15263123    0.000287        1.0"
      ]
     },
     "execution_count": 99,
     "metadata": {},
     "output_type": "execute_result"
    }
   ],
   "source": [
    "train = ['approx_qty', 'intercept']\n",
    "#mask = (df['start_dateD'] > begin_date) & (df['start_dateD'] <= end_date)\n",
    "train\n",
    "\n",
    "test[train].head()\n"
   ]
  },
  {
   "cell_type": "code",
   "execution_count": 101,
   "metadata": {
    "collapsed": false
   },
   "outputs": [],
   "source": [
    "logit_small = sm.Logit(test['violation_dum'], test[train])"
   ]
  },
  {
   "cell_type": "code",
   "execution_count": 102,
   "metadata": {
    "collapsed": false
   },
   "outputs": [
    {
     "name": "stdout",
     "output_type": "stream",
     "text": [
      "Optimization terminated successfully.\n",
      "         Current function value: 0.609636\n",
      "         Iterations 28\n"
     ]
    }
   ],
   "source": [
    "result = logit_small.fit()"
   ]
  },
  {
   "cell_type": "code",
   "execution_count": 103,
   "metadata": {
    "collapsed": false
   },
   "outputs": [
    {
     "name": "stdout",
     "output_type": "stream",
     "text": [
      "                           Logit Regression Results                           \n",
      "==============================================================================\n",
      "Dep. Variable:          violation_dum   No. Observations:                  500\n",
      "Model:                          Logit   Df Residuals:                      498\n",
      "Method:                           MLE   Df Model:                            1\n",
      "Date:                Mon, 11 Jul 2016   Pseudo R-squ.:                 0.02513\n",
      "Time:                        04:14:09   Log-Likelihood:                -304.82\n",
      "converged:                       True   LL-Null:                       -312.68\n",
      "                                        LLR p-value:                 7.357e-05\n",
      "==============================================================================\n",
      "                 coef    std err          z      P>|z|      [95.0% Conf. Int.]\n",
      "------------------------------------------------------------------------------\n",
      "approx_qty -3553.2457   2297.824     -1.546      0.122     -8056.898   950.407\n",
      "intercept      7.0209      5.060      1.388      0.165        -2.896    16.938\n",
      "==============================================================================\n"
     ]
    }
   ],
   "source": [
    "print(result.summary())"
   ]
  },
  {
   "cell_type": "markdown",
   "metadata": {},
   "source": [
    "# Whole Dataset"
   ]
  },
  {
   "cell_type": "code",
   "execution_count": 188,
   "metadata": {
    "collapsed": false
   },
   "outputs": [],
   "source": [
    "#logit = sm.Logit(dfsub['violation_dum'], train_cols)\n",
    "#logit = sm.Logit(dfsub['violation_dum'], test_cols)\n",
    "#logit = sm.Logit(data['violation_dum'], data[train_cols])\n",
    "\n",
    "logit =  sm.Logit(data['waste_code_D'], data['approx_qty'])"
   ]
  },
  {
   "cell_type": "code",
   "execution_count": 131,
   "metadata": {
    "collapsed": false
   },
   "outputs": [
    {
     "data": {
      "text/plain": [
       "violation_dum      int64\n",
       "approx_qty       float64\n",
       "intercept        float64\n",
       "waste_code_B       int64\n",
       "waste_code_D       int64\n",
       "waste_code_F       int64\n",
       "waste_code_K       int64\n",
       "waste_code_P       int64\n",
       "waste_code_S       int64\n",
       "waste_code_U       int64\n",
       "dtype: object"
      ]
     },
     "execution_count": 131,
     "metadata": {},
     "output_type": "execute_result"
    }
   ],
   "source": [
    "data.dtypes"
   ]
  },
  {
   "cell_type": "code",
   "execution_count": 189,
   "metadata": {
    "collapsed": false
   },
   "outputs": [
    {
     "name": "stdout",
     "output_type": "stream",
     "text": [
      "Optimization terminated successfully.\n",
      "         Current function value: nan\n",
      "         Iterations 1\n"
     ]
    }
   ],
   "source": [
    "result = logit.fit()"
   ]
  },
  {
   "cell_type": "code",
   "execution_count": 190,
   "metadata": {
    "collapsed": false
   },
   "outputs": [
    {
     "name": "stdout",
     "output_type": "stream",
     "text": [
      "                           Logit Regression Results                           \n",
      "==============================================================================\n",
      "Dep. Variable:           waste_code_D   No. Observations:              5408154\n",
      "Model:                          Logit   Df Residuals:                  5408153\n",
      "Method:                           MLE   Df Model:                            0\n",
      "Date:                Sat, 09 Jul 2016   Pseudo R-squ.:                     nan\n",
      "Time:                        01:39:49   Log-Likelihood:                    nan\n",
      "converged:                       True   LL-Null:                   -3.3119e+06\n",
      "                                        LLR p-value:                       nan\n",
      "==============================================================================\n",
      "                 coef    std err          z      P>|z|      [95.0% Conf. Int.]\n",
      "------------------------------------------------------------------------------\n",
      "approx_qty        nan        nan        nan        nan           nan       nan\n",
      "==============================================================================\n"
     ]
    }
   ],
   "source": [
    "print(result.summary())\n",
    "\n"
   ]
  },
  {
   "cell_type": "markdown",
   "metadata": {},
   "source": [
    "# Trouble-Shooting/WTF"
   ]
  },
  {
   "cell_type": "code",
   "execution_count": 159,
   "metadata": {
    "collapsed": true
   },
   "outputs": [],
   "source": [
    "ex = pd.read_csv(\"http://www.ats.ucla.edu/stat/data/binary.csv\")"
   ]
  },
  {
   "cell_type": "code",
   "execution_count": 161,
   "metadata": {
    "collapsed": false
   },
   "outputs": [
    {
     "name": "stdout",
     "output_type": "stream",
     "text": [
      "   admit  gre   gpa  rank\n",
      "0      0  380  3.61     3\n",
      "1      1  660  3.67     3\n",
      "2      1  800  4.00     1\n",
      "3      1  640  3.19     4\n",
      "4      0  520  2.93     4\n"
     ]
    }
   ],
   "source": [
    "print(ex.head())"
   ]
  },
  {
   "cell_type": "code",
   "execution_count": 162,
   "metadata": {
    "collapsed": false
   },
   "outputs": [
    {
     "data": {
      "text/plain": [
       "admit      int64\n",
       "gre        int64\n",
       "gpa      float64\n",
       "rank       int64\n",
       "dtype: object"
      ]
     },
     "execution_count": 162,
     "metadata": {},
     "output_type": "execute_result"
    }
   ],
   "source": [
    "ex.dtypes"
   ]
  },
  {
   "cell_type": "code",
   "execution_count": 163,
   "metadata": {
    "collapsed": false
   },
   "outputs": [
    {
     "name": "stdout",
     "output_type": "stream",
     "text": [
      "Index(['admit', 'gre', 'gpa', 'prestige'], dtype='object')\n"
     ]
    }
   ],
   "source": [
    "ex.columns = ['admit', 'gre', 'gpa', 'prestige']\n",
    "print(ex.columns)"
   ]
  },
  {
   "cell_type": "code",
   "execution_count": 164,
   "metadata": {
    "collapsed": true
   },
   "outputs": [],
   "source": [
    "dummy_ranks = pd.get_dummies(ex['prestige'], prefix ='prestige')"
   ]
  },
  {
   "cell_type": "code",
   "execution_count": 166,
   "metadata": {
    "collapsed": false
   },
   "outputs": [
    {
     "name": "stdout",
     "output_type": "stream",
     "text": [
      "   prestige_1  prestige_2  prestige_3  prestige_4\n",
      "0         0.0         0.0         1.0         0.0\n",
      "1         0.0         0.0         1.0         0.0\n",
      "2         1.0         0.0         0.0         0.0\n",
      "3         0.0         0.0         0.0         1.0\n",
      "4         0.0         0.0         0.0         1.0\n"
     ]
    }
   ],
   "source": [
    "print(dummy_ranks.head())"
   ]
  },
  {
   "cell_type": "code",
   "execution_count": 167,
   "metadata": {
    "collapsed": true
   },
   "outputs": [],
   "source": [
    "to_keep = ['admit','gre', 'gpa']"
   ]
  },
  {
   "cell_type": "code",
   "execution_count": 168,
   "metadata": {
    "collapsed": true
   },
   "outputs": [],
   "source": [
    "dta = ex[to_keep].join(dummy_ranks.ix[:, 'prestige_2':])"
   ]
  },
  {
   "cell_type": "code",
   "execution_count": 169,
   "metadata": {
    "collapsed": false
   },
   "outputs": [
    {
     "name": "stdout",
     "output_type": "stream",
     "text": [
      "   admit  gre   gpa  prestige_2  prestige_3  prestige_4\n",
      "0      0  380  3.61         0.0         1.0         0.0\n",
      "1      1  660  3.67         0.0         1.0         0.0\n",
      "2      1  800  4.00         0.0         0.0         0.0\n",
      "3      1  640  3.19         0.0         0.0         1.0\n",
      "4      0  520  2.93         0.0         0.0         1.0\n"
     ]
    }
   ],
   "source": [
    "print(dta.head())"
   ]
  },
  {
   "cell_type": "code",
   "execution_count": 170,
   "metadata": {
    "collapsed": false
   },
   "outputs": [
    {
     "data": {
      "text/plain": [
       "admit           int64\n",
       "gre             int64\n",
       "gpa           float64\n",
       "prestige_2    float64\n",
       "prestige_3    float64\n",
       "prestige_4    float64\n",
       "dtype: object"
      ]
     },
     "execution_count": 170,
     "metadata": {},
     "output_type": "execute_result"
    }
   ],
   "source": [
    "dta.dtypes"
   ]
  },
  {
   "cell_type": "code",
   "execution_count": 172,
   "metadata": {
    "collapsed": false
   },
   "outputs": [],
   "source": [
    "dta['intercept'] =1.0"
   ]
  },
  {
   "cell_type": "code",
   "execution_count": 173,
   "metadata": {
    "collapsed": true
   },
   "outputs": [],
   "source": [
    "train = dta.columns[1:]"
   ]
  },
  {
   "cell_type": "code",
   "execution_count": 182,
   "metadata": {
    "collapsed": false
   },
   "outputs": [
    {
     "data": {
      "text/plain": [
       "admit            int64\n",
       "gre              int64\n",
       "gpa            float64\n",
       "prestige_2     float64\n",
       "prestige_3     float64\n",
       "prestige_4     float64\n",
       "intercept      float64\n",
       "admit_float    float64\n",
       "dtype: object"
      ]
     },
     "execution_count": 182,
     "metadata": {},
     "output_type": "execute_result"
    }
   ],
   "source": [
    "dta['admit_float'] = dta['admit'].astype(float)\n",
    "dta.dtypes"
   ]
  },
  {
   "cell_type": "code",
   "execution_count": 183,
   "metadata": {
    "collapsed": true
   },
   "outputs": [],
   "source": [
    "mylogit = sm.Logit(dta['admit_float'], dta[train])"
   ]
  },
  {
   "cell_type": "code",
   "execution_count": 184,
   "metadata": {
    "collapsed": false
   },
   "outputs": [
    {
     "name": "stdout",
     "output_type": "stream",
     "text": [
      "Optimization terminated successfully.\n",
      "         Current function value: 0.573147\n",
      "         Iterations 6\n"
     ]
    }
   ],
   "source": [
    "myresult = mylogit.fit()"
   ]
  },
  {
   "cell_type": "code",
   "execution_count": 185,
   "metadata": {
    "collapsed": false
   },
   "outputs": [
    {
     "name": "stdout",
     "output_type": "stream",
     "text": [
      "                           Logit Regression Results                           \n",
      "==============================================================================\n",
      "Dep. Variable:            admit_float   No. Observations:                  400\n",
      "Model:                          Logit   Df Residuals:                      394\n",
      "Method:                           MLE   Df Model:                            5\n",
      "Date:                Sat, 09 Jul 2016   Pseudo R-squ.:                 0.08292\n",
      "Time:                        01:36:16   Log-Likelihood:                -229.26\n",
      "converged:                       True   LL-Null:                       -249.99\n",
      "                                        LLR p-value:                 7.578e-08\n",
      "==============================================================================\n",
      "                 coef    std err          z      P>|z|      [95.0% Conf. Int.]\n",
      "------------------------------------------------------------------------------\n",
      "gre            0.0023      0.001      2.070      0.038         0.000     0.004\n",
      "gpa            0.8040      0.332      2.423      0.015         0.154     1.454\n",
      "prestige_2    -0.6754      0.316     -2.134      0.033        -1.296    -0.055\n",
      "prestige_3    -1.3402      0.345     -3.881      0.000        -2.017    -0.663\n",
      "prestige_4    -1.5515      0.418     -3.713      0.000        -2.370    -0.733\n",
      "intercept     -3.9900      1.140     -3.500      0.000        -6.224    -1.756\n",
      "==============================================================================\n"
     ]
    }
   ],
   "source": [
    "print(myresult.summary())"
   ]
  },
  {
   "cell_type": "code",
   "execution_count": null,
   "metadata": {
    "collapsed": true
   },
   "outputs": [],
   "source": []
  },
  {
   "cell_type": "code",
   "execution_count": null,
   "metadata": {
    "collapsed": true
   },
   "outputs": [],
   "source": []
  },
  {
   "cell_type": "code",
   "execution_count": null,
   "metadata": {
    "collapsed": true
   },
   "outputs": [],
   "source": []
  },
  {
   "cell_type": "code",
   "execution_count": null,
   "metadata": {
    "collapsed": true
   },
   "outputs": [],
   "source": []
  }
 ],
 "metadata": {
  "kernelspec": {
   "display_name": "Python 3",
   "language": "python",
   "name": "python3"
  },
  "language_info": {
   "codemirror_mode": {
    "name": "ipython",
    "version": 3
   },
   "file_extension": ".py",
   "mimetype": "text/x-python",
   "name": "python",
   "nbconvert_exporter": "python",
   "pygments_lexer": "ipython3",
   "version": "3.4.3"
  }
 },
 "nbformat": 4,
 "nbformat_minor": 0
}
